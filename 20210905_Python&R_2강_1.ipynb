{
  "nbformat": 4,
  "nbformat_minor": 0,
  "metadata": {
    "colab": {
      "name": "20210905_Python&R_2강_1.ipynb",
      "provenance": [],
      "authorship_tag": "ABX9TyO0efmNFfsIatr5J+PP17U2",
      "include_colab_link": true
    },
    "kernelspec": {
      "name": "python3",
      "display_name": "Python 3"
    },
    "language_info": {
      "name": "python"
    }
  },
  "cells": [
    {
      "cell_type": "markdown",
      "metadata": {
        "id": "view-in-github",
        "colab_type": "text"
      },
      "source": [
        "<a href=\"https://colab.research.google.com/github/euntaek-ko0102/KNOU_Python/blob/main/20210905_Python%26R_2%EA%B0%95_1.ipynb\" target=\"_parent\"><img src=\"https://colab.research.google.com/assets/colab-badge.svg\" alt=\"Open In Colab\"/></a>"
      ]
    },
    {
      "cell_type": "markdown",
      "metadata": {
        "id": "x2yetC8SqNp-"
      },
      "source": [
        "연습문제1"
      ]
    },
    {
      "cell_type": "code",
      "metadata": {
        "colab": {
          "base_uri": "https://localhost:8080/"
        },
        "id": "poeKMbuzo49o",
        "outputId": "8eecaffa-080f-42ce-df25-b0f90dc929ec"
      },
      "source": [
        "import datetime as dt\n",
        "dob = dt.datetime(2020,9,8)\n",
        "print(dob.strftime(\"%Y-%m-%d: %A\"))\n",
        "\n"
      ],
      "execution_count": 6,
      "outputs": [
        {
          "output_type": "stream",
          "name": "stdout",
          "text": [
            "2020-09-08: Tuesday\n"
          ]
        }
      ]
    },
    {
      "cell_type": "code",
      "metadata": {
        "colab": {
          "base_uri": "https://localhost:8080/"
        },
        "id": "SYRB0xd3piD3",
        "outputId": "1a165187-1d90-4be2-c4e3-0c04f6d2ef5d"
      },
      "source": [
        "import datetime as dt\n",
        "dob = dt.datetime(2020,9,8)\n",
        "print(dob.strftime(\"%Y-%m-%d: %a\"))\n"
      ],
      "execution_count": 7,
      "outputs": [
        {
          "output_type": "stream",
          "name": "stdout",
          "text": [
            "2020-09-08: Tue\n"
          ]
        }
      ]
    },
    {
      "cell_type": "markdown",
      "metadata": {
        "id": "C9F3P8knplUj"
      },
      "source": [
        "%A - Full day\n",
        "%a - Small day\n",
        "\n",
        "```\n",
        "`# This is formatted as code`\n",
        "```\n",
        "\n"
      ]
    },
    {
      "cell_type": "markdown",
      "metadata": {
        "id": "7rMgryCyqFLb"
      },
      "source": [
        "연습문제3"
      ]
    },
    {
      "cell_type": "code",
      "metadata": {
        "colab": {
          "base_uri": "https://localhost:8080/"
        },
        "id": "1IlaVGP1pitF",
        "outputId": "705304b0-ede6-4d5a-91fc-4d2161fe4a05"
      },
      "source": [
        "a = 10\n",
        "b = 5\n",
        "print(a % b)\n"
      ],
      "execution_count": 8,
      "outputs": [
        {
          "output_type": "stream",
          "name": "stdout",
          "text": [
            "0\n"
          ]
        }
      ]
    },
    {
      "cell_type": "markdown",
      "metadata": {
        "id": "2gYxK1TGqVAC"
      },
      "source": [
        "연습문제4"
      ]
    },
    {
      "cell_type": "code",
      "metadata": {
        "colab": {
          "base_uri": "https://localhost:8080/"
        },
        "id": "JMX0AnoMqEOX",
        "outputId": "d2eb1d7e-001d-4c24-c908-45a51dd34fb7"
      },
      "source": [
        "import numpy as np\n",
        "x = np.array([1, -1, 0, np.infty, -np.inf])\n",
        "print(x/np.Infinity)\n"
      ],
      "execution_count": 14,
      "outputs": [
        {
          "output_type": "stream",
          "name": "stdout",
          "text": [
            "[ 0. -0.  0. nan nan]\n"
          ]
        },
        {
          "output_type": "stream",
          "name": "stderr",
          "text": [
            "/usr/local/lib/python3.7/dist-packages/ipykernel_launcher.py:3: RuntimeWarning: invalid value encountered in true_divide\n",
            "  This is separate from the ipykernel package so we can avoid doing imports until\n"
          ]
        }
      ]
    },
    {
      "cell_type": "markdown",
      "metadata": {
        "id": "ewJPs89Dv63l"
      },
      "source": [
        "결측치처리"
      ]
    },
    {
      "cell_type": "code",
      "metadata": {
        "colab": {
          "base_uri": "https://localhost:8080/"
        },
        "id": "Fff_PgNCvh2W",
        "outputId": "193267d6-9ad3-4e54-d862-8f9ffccd095d"
      },
      "source": [
        "import numpy as np\n",
        "height = np.array([45, 75, 60, 51, np.nan])\n",
        "np.mean(height)"
      ],
      "execution_count": 21,
      "outputs": [
        {
          "output_type": "execute_result",
          "data": {
            "text/plain": [
              "nan"
            ]
          },
          "metadata": {},
          "execution_count": 21
        }
      ]
    },
    {
      "cell_type": "code",
      "metadata": {
        "colab": {
          "base_uri": "https://localhost:8080/"
        },
        "id": "ZoVwegViv-Fv",
        "outputId": "b640e2ab-314e-4390-f7d2-0f14790f2e2e"
      },
      "source": [
        "import numpy as np\n",
        "height = np.array([45, 75, 60, 51, np.nan])\n",
        "np.nanmean(height)"
      ],
      "execution_count": 20,
      "outputs": [
        {
          "output_type": "execute_result",
          "data": {
            "text/plain": [
              "57.75"
            ]
          },
          "metadata": {},
          "execution_count": 20
        }
      ]
    }
  ]
}