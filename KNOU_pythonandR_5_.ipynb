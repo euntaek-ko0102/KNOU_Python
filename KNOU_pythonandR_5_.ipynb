{
  "nbformat": 4,
  "nbformat_minor": 0,
  "metadata": {
    "colab": {
      "name": "KNOU_pythonandR_5_.ipynb",
      "provenance": [],
      "authorship_tag": "ABX9TyMFLQ6wJ2DKh2+OX3ALVC2M",
      "include_colab_link": true
    },
    "kernelspec": {
      "name": "python3",
      "display_name": "Python 3"
    },
    "language_info": {
      "name": "python"
    }
  },
  "cells": [
    {
      "cell_type": "markdown",
      "metadata": {
        "id": "view-in-github",
        "colab_type": "text"
      },
      "source": [
        "<a href=\"https://colab.research.google.com/github/euntaek-ko0102/KNOU_Python/blob/main/KNOU_pythonandR_5_.ipynb\" target=\"_parent\"><img src=\"https://colab.research.google.com/assets/colab-badge.svg\" alt=\"Open In Colab\"/></a>"
      ]
    },
    {
      "cell_type": "code",
      "metadata": {
        "colab": {
          "base_uri": "https://localhost:8080/"
        },
        "id": "3J-PgMSmVVjn",
        "outputId": "90d385a7-44c9-4528-ff8d-910990dafa45"
      },
      "source": [
        "x = range(1,6)\n",
        "for j in x:\n",
        "  if(j==4): continue\n",
        "  print(j, \" \")\n",
        "  "
      ],
      "execution_count": 1,
      "outputs": [
        {
          "output_type": "stream",
          "name": "stdout",
          "text": [
            "1  \n",
            "2  \n",
            "3  \n",
            "5  \n"
          ]
        }
      ]
    },
    {
      "cell_type": "code",
      "metadata": {
        "id": "xlISlv9jVtY2"
      },
      "source": [
        "class Student2:\n",
        "  def __init__(self, first, last):\n",
        "    self.first = first\n",
        "    self.last = last\n",
        "\n",
        "    def capital_first(self):\n",
        "      return self.first.upper(), self.last.upper()\n",
        "\n",
        "      aa2 = Student2('John', 'Doe')\n",
        "      aa2.capital_first()\n"
      ],
      "execution_count": 5,
      "outputs": []
    }
  ]
}